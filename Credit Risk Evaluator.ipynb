{
 "cells": [
  {
   "cell_type": "markdown",
   "metadata": {},
   "source": [
    "# Credit Risk Evaluator\n",
    "\n",
    "### Which model will be better? LogisticRegression or RandomForestClassifier?\n",
    "#### Predictions: \n",
    "\n",
    "I predict that the RandomForestClassifier will be a better model due to the data set containing several columns of categorical data."
   ]
  },
  {
   "cell_type": "code",
   "execution_count": 32,
   "metadata": {},
   "outputs": [],
   "source": [
    "import numpy as np\n",
    "import pandas as pd\n",
    "from pathlib import Path\n",
    "from sklearn.model_selection import train_test_split\n",
    "from sklearn.preprocessing import StandardScaler, MinMaxScaler, LabelEncoder"
   ]
  },
  {
   "cell_type": "code",
   "execution_count": 33,
   "metadata": {},
   "outputs": [],
   "source": [
    "train_df = pd.read_csv(Path('Resources/2019loans.csv'))\n",
    "test_df = pd.read_csv(Path('Resources/2020Q1loans.csv'))"
   ]
  },
  {
   "cell_type": "code",
   "execution_count": 34,
   "metadata": {},
   "outputs": [],
   "source": [
    "# train_df"
   ]
  },
  {
   "cell_type": "code",
   "execution_count": 35,
   "metadata": {},
   "outputs": [],
   "source": [
    "# test_df"
   ]
  },
  {
   "cell_type": "code",
   "execution_count": 36,
   "metadata": {},
   "outputs": [],
   "source": [
    "# Convert categorical data to numeric and separate target feature for training data\n",
    "X_tr = train_df.drop('target', axis=1)\n",
    "pd.get_dummies(X_tr[['home_ownership', 'verification_status', 'pymnt_plan', 'initial_list_status', 'application_type', 'hardship_flag', 'debt_settlement_flag']])\n",
    "X_tr_dummies = pd.get_dummies(X_tr)\n",
    "# print(X_tr_dummies.columns)\n",
    "y_tr = LabelEncoder().fit_transform(train_df['target'])\n",
    "# X_tr_dummies.columns"
   ]
  },
  {
   "cell_type": "code",
   "execution_count": 37,
   "metadata": {},
   "outputs": [],
   "source": [
    "# Convert categorical data to numeric and separate target feature for testing data\n",
    "X_te = test_df.drop('target', axis=1)\n",
    "pd.get_dummies(X_te[['home_ownership', 'verification_status', 'pymnt_plan', 'initial_list_status', 'application_type', 'hardship_flag', 'debt_settlement_flag']])\n",
    "X_te_dummies = pd.get_dummies(X_te)\n",
    "# print(X_te_dummies.columns)\n",
    "y_te = LabelEncoder().fit_transform(test_df['target'])\n",
    "# X_te_dummies.columns"
   ]
  },
  {
   "cell_type": "code",
   "execution_count": 59,
   "metadata": {},
   "outputs": [],
   "source": [
    "# add missing dummy variables to testing set\n",
    "X_tr_dummies.columns.symmetric_difference(X_te_dummies.columns) # checks to see different columns between two dfs\n",
    "X_te_dummies['debt_settlement_flag_Y'] = 0\n",
    "# X_te_dummies"
   ]
  },
  {
   "cell_type": "code",
   "execution_count": 70,
   "metadata": {},
   "outputs": [
    {
     "name": "stdout",
     "output_type": "stream",
     "text": [
      "Training Data Score: 0.7045155993431855\n",
      "Testing Data Score: 0.5595491280306253\n"
     ]
    }
   ],
   "source": [
    "# Train the Logistic Regression model on the unscaled data and print the model score\n",
    "from sklearn.linear_model import LogisticRegression\n",
    "\n",
    "classifier = LogisticRegression(solver='lbfgs', max_iter=9000)\n",
    "classifier.fit(X_tr_dummies, y_tr)\n",
    "print(f\"Training Data Score: {classifier.score(X_tr_dummies, y_tr)}\")\n",
    "print(f\"Testing Data Score: {classifier.score(X_te_dummies, y_te)}\")"
   ]
  },
  {
   "cell_type": "code",
   "execution_count": 78,
   "metadata": {},
   "outputs": [
    {
     "name": "stdout",
     "output_type": "stream",
     "text": [
      "Training Data Score: 1.0\n",
      "Testing Data Score: 0.6422798809017439\n"
     ]
    }
   ],
   "source": [
    "# Train a Random Forest Classifier model and print the model score\n",
    "from sklearn.ensemble import RandomForestClassifier\n",
    "clf = RandomForestClassifier(random_state=5, n_estimators=150).fit(X_tr_dummies, y_tr)\n",
    "print(f\"Training Data Score: {clf.score(X_tr_dummies, y_tr)}\")\n",
    "print(f\"Testing Data Score: {clf.score(X_te_dummies, y_te)}\")"
   ]
  },
  {
   "cell_type": "markdown",
   "metadata": {},
   "source": [
    "### Thoughts before scaling data\n",
    "#### Comparisons from unscaled data: \n",
    "The logistic regression model seems to be performing better on the unscaled data. The random forest classifier is performing poorly, possibly due to overfitting.\n",
    "#### Predictions for scaled data: \n",
    "I think the performance of the unscaled data is too poor in the random forest classifier to overcome the deficit of the logistical regression model. I predict both models will perform better after scaling."
   ]
  },
  {
   "cell_type": "code",
   "execution_count": 74,
   "metadata": {},
   "outputs": [],
   "source": [
    "# Scale the data\n",
    "scaler = StandardScaler().fit(X_tr_dummies)\n",
    "X_train_scaled = scaler.transform(X_tr_dummies)\n",
    "X_test_scaled = scaler.transform(X_te_dummies)"
   ]
  },
  {
   "cell_type": "code",
   "execution_count": 75,
   "metadata": {},
   "outputs": [
    {
     "name": "stdout",
     "output_type": "stream",
     "text": [
      "Training Data Score: 0.7107553366174055\n",
      "Testing Data Score: 0.7594640578477244\n"
     ]
    }
   ],
   "source": [
    "# Train the Logistic Regression model on the scaled data and print the model score\n",
    "classifier.fit(X_train_scaled, y_tr)\n",
    "print(f\"Training Data Score: {classifier.score(X_train_scaled, y_tr)}\")\n",
    "print(f\"Testing Data Score: {classifier.score(X_test_scaled, y_te)}\")"
   ]
  },
  {
   "cell_type": "code",
   "execution_count": 81,
   "metadata": {},
   "outputs": [
    {
     "name": "stdout",
     "output_type": "stream",
     "text": [
      "Training Score: 1.0\n",
      "Testing Score: 0.6418545299872395\n"
     ]
    }
   ],
   "source": [
    "# Train a Random Forest Classifier model on the scaled data and print the model score\n",
    "clf2 = RandomForestClassifier(random_state=5, n_estimators=150).fit(X_train_scaled, y_tr)\n",
    "print(f'Training Score: {clf2.score(X_train_scaled, y_tr)}')\n",
    "print(f'Testing Score: {clf2.score(X_test_scaled, y_te)}')"
   ]
  },
  {
   "cell_type": "markdown",
   "metadata": {},
   "source": [
    "### Results\n",
    "#### Comparisons from scaled data: \n",
    "It seems the prediction was incorrect due to random forest classifier actually performing worse after scaling. The logistic regression model performed significantly better after scaling.\n",
    "#### Results for scaled data: \n",
    "The logistic regression model seems to be the way to go meaning my prediction was incorrect. The data set could possibly use some more pre-processing to achieve better results."
   ]
  },
  {
   "cell_type": "code",
   "execution_count": null,
   "metadata": {},
   "outputs": [],
   "source": []
  }
 ],
 "metadata": {
  "interpreter": {
   "hash": "ad4e1cdc6d2df6b78adfa9d5dade8a91d4fb637b81e67ab4fabe1812f655f6f5"
  },
  "kernelspec": {
   "display_name": "Python 3.6.10 64-bit ('PyEnv': conda)",
   "name": "python3"
  },
  "language_info": {
   "codemirror_mode": {
    "name": "ipython",
    "version": 3
   },
   "file_extension": ".py",
   "mimetype": "text/x-python",
   "name": "python",
   "nbconvert_exporter": "python",
   "pygments_lexer": "ipython3",
   "version": "3.6.10"
  }
 },
 "nbformat": 4,
 "nbformat_minor": 4
}
